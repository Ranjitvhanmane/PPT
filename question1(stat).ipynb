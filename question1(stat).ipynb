{
 "cells": [
  {
   "cell_type": "markdown",
   "id": "892ed9da",
   "metadata": {},
   "source": [
    "Q-1. A university wants to understand the relationship between the SAT scores of its\n",
    "applicants and their college GPA. They collect data on 500 students, including their SAT\n",
    "scores (out of 1600) and their college GPA (on a 4.0 scale). They find that the correlation\n",
    "coefficient between SAT scores and college GPA is 0.7. What does this correlation\n",
    "coefficient indicate about the relationship between SAT scores and college GPA?"
   ]
  },
  {
   "cell_type": "markdown",
   "id": "85be78c1",
   "metadata": {},
   "source": [
    "A correlation coefficient of 0.7 indicates a strong positive relationship between SAT scores and college GPA.\n",
    "The correlation coefficient ranges from -1 to +1, with 0 indicating no correlation, -1 indicating a strong negative correlation, and +1 indicating a strong positive correlation. In this case, a correlation coefficient of 0.7 suggests that there is a strong positive linear relationship between SAT scores and college GPA."
   ]
  },
  {
   "cell_type": "code",
   "execution_count": null,
   "id": "106204d6",
   "metadata": {},
   "outputs": [],
   "source": []
  }
 ],
 "metadata": {
  "kernelspec": {
   "display_name": "Python 3 (ipykernel)",
   "language": "python",
   "name": "python3"
  },
  "language_info": {
   "codemirror_mode": {
    "name": "ipython",
    "version": 3
   },
   "file_extension": ".py",
   "mimetype": "text/x-python",
   "name": "python",
   "nbconvert_exporter": "python",
   "pygments_lexer": "ipython3",
   "version": "3.9.12"
  }
 },
 "nbformat": 4,
 "nbformat_minor": 5
}
