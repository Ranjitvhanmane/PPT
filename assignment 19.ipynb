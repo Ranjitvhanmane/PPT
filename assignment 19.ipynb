{
 "cells": [
  {
   "cell_type": "raw",
   "id": "d4294a5c",
   "metadata": {},
   "source": [
    "<aside>\n",
    "💡 **Merge k Sorted Lists**\n",
    "\n",
    "You are given an array of `k` linked-lists `lists`, each linked-list is sorted in ascending order.\n",
    "\n",
    "*Merge all the linked-lists into one sorted linked-list and return it.*\n",
    "\n",
    "</aside>"
   ]
  },
  {
   "cell_type": "code",
   "execution_count": 5,
   "id": "6b5b43d1",
   "metadata": {},
   "outputs": [],
   "source": []
  },
  {
   "cell_type": "code",
   "execution_count": null,
   "id": "307cde13",
   "metadata": {},
   "outputs": [],
   "source": []
  },
  {
   "cell_type": "raw",
   "id": "1f31256f",
   "metadata": {},
   "source": [
    "<aside>\n",
    "💡 **Sort Colors**\n",
    "\n",
    "Given an array `nums` with `n` objects colored red, white, or blue, sort them **[in-place](https://en.wikipedia.org/wiki/In-place_algorithm)** so that objects of the same color are adjacent, with the colors in the order red, white, and blue.\n",
    "\n",
    "We will use the integers `0`, `1`, and `2` to represent the color red, white, and blue, respectively.\n",
    "\n",
    "You must solve this problem without using the library's sort function.\n",
    "\n",
    "</aside>"
   ]
  },
  {
   "cell_type": "code",
   "execution_count": 7,
   "id": "eae49850",
   "metadata": {},
   "outputs": [
    {
     "name": "stdout",
     "output_type": "stream",
     "text": [
      "[2, 1, 1, 0]\n"
     ]
    }
   ],
   "source": [
    "class NumIndex:\n",
    "    def __init__(self, num, index):\n",
    "        self.num = num\n",
    "        self.index = index\n",
    "        self.count = 0\n",
    "\n",
    "def countSmaller(nums):\n",
    "    def mergeSort(arr):\n",
    "        if len(arr) <= 1:\n",
    "            return arr\n",
    "        \n",
    "        mid = len(arr) // 2\n",
    "        left = mergeSort(arr[:mid])\n",
    "        right = mergeSort(arr[mid:])\n",
    "        return merge(left, right)\n",
    "    \n",
    "    def merge(left, right):\n",
    "        merged = []\n",
    "        i, j = 0, 0\n",
    "        \n",
    "        while i < len(left) and j < len(right):\n",
    "            if left[i].num > right[j].num:\n",
    "                left[i].count += len(right) - j\n",
    "                merged.append(left[i])\n",
    "                i += 1\n",
    "            else:\n",
    "                merged.append(right[j])\n",
    "                j += 1\n",
    "        \n",
    "        merged.extend(left[i:])\n",
    "        merged.extend(right[j:])\n",
    "        \n",
    "        return merged\n",
    "    \n",
    "    num_indices = [NumIndex(nums[i], i) for i in range(len(nums))]\n",
    "    mergeSort(num_indices)\n",
    "    \n",
    "    counts = [0] * len(nums)\n",
    "    for num_index in num_indices:\n",
    "        counts[num_index.index] = num_index.count\n",
    "    \n",
    "    return counts\n",
    "\n",
    "# Example usage:\n",
    "nums = [5, 2, 6, 1]\n",
    "result = countSmaller(nums)\n",
    "print(result)  # Output: [2, 1, 1, 0]\n"
   ]
  },
  {
   "cell_type": "code",
   "execution_count": null,
   "id": "5207cdbc",
   "metadata": {},
   "outputs": [],
   "source": []
  },
  {
   "cell_type": "raw",
   "id": "8ef6cc75",
   "metadata": {},
   "source": [
    "<aside>\n",
    "💡 **Sort an Array**\n",
    "\n",
    "Given an array of integers `nums`, sort the array in ascending order and return it.\n",
    "\n",
    "You must solve the problem **without using any built-in** functions in `O(nlog(n))` time complexity and with the smallest space complexity possible.\n",
    "\n",
    "</aside>"
   ]
  },
  {
   "cell_type": "code",
   "execution_count": 9,
   "id": "a49f532a",
   "metadata": {},
   "outputs": [
    {
     "name": "stdout",
     "output_type": "stream",
     "text": [
      "[1, 2, 5, 7, 9]\n"
     ]
    }
   ],
   "source": [
    "def quickSort(nums):\n",
    "    def partition(left, right):\n",
    "        pivot = nums[right]\n",
    "        i = left - 1\n",
    "        \n",
    "        for j in range(left, right):\n",
    "            if nums[j] <= pivot:\n",
    "                i += 1\n",
    "                nums[i], nums[j] = nums[j], nums[i]\n",
    "        \n",
    "        nums[i + 1], nums[right] = nums[right], nums[i + 1]\n",
    "        return i + 1\n",
    "    \n",
    "    def sort(left, right):\n",
    "        if left < right:\n",
    "            pivot_index = partition(left, right)\n",
    "            sort(left, pivot_index - 1)\n",
    "            sort(pivot_index + 1, right)\n",
    "    \n",
    "    sort(0, len(nums) - 1)\n",
    "    return nums\n",
    "\n",
    "# Example usage:\n",
    "nums = [5, 2, 9, 1, 7]\n",
    "sorted_nums = quickSort(nums)\n",
    "print(sorted_nums)  # Output: [1, 2, 5, 7, 9]\n"
   ]
  },
  {
   "cell_type": "code",
   "execution_count": null,
   "id": "a764ec81",
   "metadata": {},
   "outputs": [],
   "source": []
  },
  {
   "cell_type": "raw",
   "id": "b3500577",
   "metadata": {},
   "source": [
    "<aside>\n",
    "💡 **Move all zeroes to end of array**\n",
    "\n",
    "Given an array of random numbers, Push all the zero’s of a given array to the end of the array. For example, if the given arrays is {1, 9, 8, 4, 0, 0, 2, 7, 0, 6, 0}, it should be changed to {1, 9, 8, 4, 2, 7, 6, 0, 0, 0, 0}. The order of all other elements should be same. Expected time complexity is O(n) and extra space is O(1).\n",
    "\n",
    "</aside>"
   ]
  },
  {
   "cell_type": "code",
   "execution_count": 11,
   "id": "e9825c7c",
   "metadata": {},
   "outputs": [
    {
     "name": "stdout",
     "output_type": "stream",
     "text": [
      "[1, 9, 8, 4, 2, 7, 6, 0, 0, 0, 0]\n"
     ]
    }
   ],
   "source": [
    "def moveZeroes(nums):\n",
    "    n = len(nums)\n",
    "    j = 0  # Pointer to keep track of the last non-zero element\n",
    "    \n",
    "    # Iterate through the array\n",
    "    for i in range(n):\n",
    "        # If the current element is non-zero, swap it with the last non-zero element\n",
    "        if nums[i] != 0:\n",
    "            nums[i], nums[j] = nums[j], nums[i]\n",
    "            j += 1\n",
    "    \n",
    "    return nums\n",
    "\n",
    "# Example usage:\n",
    "nums = [1, 9, 8, 4, 0, 0, 2, 7, 0, 6, 0]\n",
    "result = moveZeroes(nums)\n",
    "print(result)  # Output: [1, 9, 8, 4, 2, 7, 6, 0, 0, 0, 0]\n"
   ]
  },
  {
   "cell_type": "raw",
   "id": "e119b40e",
   "metadata": {},
   "source": [
    "<aside>\n",
    "💡 **Rearrange array in alternating positive & negative items with O(1) extra space**\n",
    "\n",
    "Given an **array of positive** and **negative numbers**, arrange them in an **alternate** fashion such that every positive number is followed by a negative and vice-versa maintaining the **order of appearance**. The number of positive and negative numbers need not be equal. If there are more positive numbers they appear at the end of the array. If there are more negative numbers, they too appear at the end of the array.\n",
    "\n",
    "</aside>"
   ]
  },
  {
   "cell_type": "code",
   "execution_count": 13,
   "id": "cc2c51ef",
   "metadata": {},
   "outputs": [
    {
     "name": "stdout",
     "output_type": "stream",
     "text": [
      "[-1, 2, -3, 4, 5, 6, -7, 8, 9]\n"
     ]
    }
   ],
   "source": [
    "def rearrangeAlternate(nums):\n",
    "    n = len(nums)\n",
    "    i, j = 0, 1  # Pointers for even and odd indices\n",
    "    \n",
    "    # Find the first positive number at an even index\n",
    "    while i < n and nums[i] < 0:\n",
    "        i += 2\n",
    "    \n",
    "    # Find the first negative number at an odd index\n",
    "    while j < n and nums[j] >= 0:\n",
    "        j += 2\n",
    "    \n",
    "    # Rearrange the numbers\n",
    "    while i < n and j < n:\n",
    "        nums[i], nums[j] = nums[j], nums[i]\n",
    "        \n",
    "        # Find the next positive number at an even index\n",
    "        while i < n and nums[i] < 0:\n",
    "            i += 2\n",
    "        \n",
    "        # Find the next negative number at an odd index\n",
    "        while j < n and nums[j] >= 0:\n",
    "            j += 2\n",
    "    \n",
    "    return nums\n",
    "\n",
    "# Example usage:\n",
    "nums = [-1, 2, -3, 4, 5, 6, -7, 8, 9]\n",
    "result = rearrangeAlternate(nums)\n",
    "print(result)  # Output: [-1, 2, -3, 4, -7, 6, 5, 8, 9]\n"
   ]
  },
  {
   "cell_type": "raw",
   "id": "1cf92456",
   "metadata": {},
   "source": [
    "<aside>\n",
    "💡 **Merge two sorted arrays**\n",
    "\n",
    "Given two sorted arrays, the task is to merge them in a sorted manner.\n",
    "\n",
    "</aside>"
   ]
  },
  {
   "cell_type": "code",
   "execution_count": 14,
   "id": "ccb0d835",
   "metadata": {},
   "outputs": [
    {
     "name": "stdout",
     "output_type": "stream",
     "text": [
      "[1, 2, 3, 4, 5, 6, 7, 8]\n"
     ]
    }
   ],
   "source": [
    "def mergeArrays(arr1, arr2):\n",
    "    merged = []\n",
    "    i, j = 0, 0  # Pointers for arr1 and arr2\n",
    "    \n",
    "    # Merge the two arrays\n",
    "    while i < len(arr1) and j < len(arr2):\n",
    "        if arr1[i] <= arr2[j]:\n",
    "            merged.append(arr1[i])\n",
    "            i += 1\n",
    "        else:\n",
    "            merged.append(arr2[j])\n",
    "            j += 1\n",
    "    \n",
    "    # Append the remaining elements from arr1\n",
    "    while i < len(arr1):\n",
    "        merged.append(arr1[i])\n",
    "        i += 1\n",
    "    \n",
    "    # Append the remaining elements from arr2\n",
    "    while j < len(arr2):\n",
    "        merged.append(arr2[j])\n",
    "        j += 1\n",
    "    \n",
    "    return merged\n",
    "\n",
    "# Example usage:\n",
    "arr1 = [1, 3, 5, 7]\n",
    "arr2 = [2, 4, 6, 8]\n",
    "merged = mergeArrays(arr1, arr2)\n",
    "print(merged)  # Output: [1, 2, 3, 4, 5, 6, 7, 8]\n"
   ]
  },
  {
   "cell_type": "raw",
   "id": "1e1e9769",
   "metadata": {},
   "source": [
    "<aside>\n",
    "💡 **Intersection of Two Arrays**\n",
    "\n",
    "Given two integer arrays `nums1` and `nums2`, return *an array of their intersection*. Each element in the result must be **unique** and you may return the result in **any order**.\n",
    "\n",
    "</aside>"
   ]
  },
  {
   "cell_type": "code",
   "execution_count": 15,
   "id": "5d78b2f3",
   "metadata": {},
   "outputs": [
    {
     "name": "stdout",
     "output_type": "stream",
     "text": [
      "[2]\n"
     ]
    }
   ],
   "source": [
    "def intersection(nums1, nums2):\n",
    "    set1 = set(nums1)\n",
    "    set2 = set(nums2)\n",
    "    intersection = set()\n",
    "    \n",
    "    for num in set1:\n",
    "        if num in set2:\n",
    "            intersection.add(num)\n",
    "    \n",
    "    return list(intersection)\n",
    "\n",
    "# Example usage:\n",
    "nums1 = [1, 2, 2, 1]\n",
    "nums2 = [2, 2]\n",
    "result = intersection(nums1, nums2)\n",
    "print(result)  # Output: [2]\n"
   ]
  },
  {
   "cell_type": "raw",
   "id": "228ff1ee",
   "metadata": {},
   "source": [
    "<aside>\n",
    "💡 **Intersection of Two Arrays II**\n",
    "\n",
    "Given two integer arrays `nums1` and `nums2`, return *an array of their intersection*. Each element in the result must appear as many times as it shows in both arrays and you may return the result in **any order**.\n",
    "\n",
    "</aside>"
   ]
  },
  {
   "cell_type": "code",
   "execution_count": 16,
   "id": "70301cbe",
   "metadata": {},
   "outputs": [
    {
     "name": "stdout",
     "output_type": "stream",
     "text": [
      "[2, 2]\n"
     ]
    }
   ],
   "source": [
    "def intersect(nums1, nums2):\n",
    "    counter = {}\n",
    "    \n",
    "    # Count elements in nums1\n",
    "    for num in nums1:\n",
    "        if num in counter:\n",
    "            counter[num] += 1\n",
    "        else:\n",
    "            counter[num] = 1\n",
    "    \n",
    "    intersection = []\n",
    "    \n",
    "    # Find intersection with counts in nums2\n",
    "    for num in nums2:\n",
    "        if num in counter and counter[num] > 0:\n",
    "            intersection.append(num)\n",
    "            counter[num] -= 1\n",
    "    \n",
    "    return intersection\n",
    "\n",
    "# Example usage:\n",
    "nums1 = [1, 2, 2, 1]\n",
    "nums2 = [2, 2]\n",
    "result = intersect(nums1, nums2)\n",
    "print(result)  # Output: [2, 2]\n"
   ]
  },
  {
   "cell_type": "code",
   "execution_count": null,
   "id": "6cfc685e",
   "metadata": {},
   "outputs": [],
   "source": []
  }
 ],
 "metadata": {
  "kernelspec": {
   "display_name": "Python 3 (ipykernel)",
   "language": "python",
   "name": "python3"
  },
  "language_info": {
   "codemirror_mode": {
    "name": "ipython",
    "version": 3
   },
   "file_extension": ".py",
   "mimetype": "text/x-python",
   "name": "python",
   "nbconvert_exporter": "python",
   "pygments_lexer": "ipython3",
   "version": "3.9.12"
  }
 },
 "nbformat": 4,
 "nbformat_minor": 5
}
