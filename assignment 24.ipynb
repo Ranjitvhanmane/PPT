{
 "cells": [
  {
   "cell_type": "raw",
   "id": "7eb17141",
   "metadata": {},
   "source": [
    "<aside>\n",
    "💡 1. **Roman to Integer**\n",
    "\n",
    "Roman numerals are represented by seven different symbols: `I`, `V`, `X`, `L`, `C`, `D` and `M`\n",
    "\n",
    "</aside>"
   ]
  },
  {
   "cell_type": "code",
   "execution_count": 1,
   "id": "1c6a1b5b",
   "metadata": {},
   "outputs": [
    {
     "name": "stdout",
     "output_type": "stream",
     "text": [
      "3\n"
     ]
    }
   ],
   "source": [
    "def romanToInt(s):\n",
    "    roman_values = {\n",
    "        'I': 1,\n",
    "        'V': 5,\n",
    "        'X': 10,\n",
    "        'L': 50,\n",
    "        'C': 100,\n",
    "        'D': 500,\n",
    "        'M': 1000\n",
    "    }\n",
    "\n",
    "    result = 0\n",
    "    n = len(s)\n",
    "\n",
    "    for i in range(n):\n",
    "        current_value = roman_values[s[i]]\n",
    "        next_value = roman_values[s[i + 1]] if i + 1 < n else 0\n",
    "\n",
    "        if current_value < next_value:\n",
    "            result -= current_value\n",
    "        else:\n",
    "            result += current_value\n",
    "\n",
    "    return result\n",
    "\n",
    "# Example usage:\n",
    "s = \"III\"\n",
    "converted_int = romanToInt(s)\n",
    "print(converted_int)  # Output: 3\n"
   ]
  },
  {
   "cell_type": "raw",
   "id": "9a0bcd7d",
   "metadata": {},
   "source": [
    "<aside>\n",
    "💡 2. **Longest Substring Without Repeating Characters**\n",
    "\n",
    "Given a string `s`, find the length of the **longest substring** without repeating characters.\n",
    "\n",
    "</aside>"
   ]
  },
  {
   "cell_type": "code",
   "execution_count": 2,
   "id": "d5aab4c2",
   "metadata": {},
   "outputs": [
    {
     "name": "stdout",
     "output_type": "stream",
     "text": [
      "3\n"
     ]
    }
   ],
   "source": [
    "def lengthOfLongestSubstring(s):\n",
    "    start = 0\n",
    "    end = 0\n",
    "    max_length = 0\n",
    "    seen = set()\n",
    "\n",
    "    while end < len(s):\n",
    "        if s[end] not in seen:\n",
    "            seen.add(s[end])\n",
    "            end += 1\n",
    "            max_length = max(max_length, end - start)\n",
    "        else:\n",
    "            seen.remove(s[start])\n",
    "            start += 1\n",
    "\n",
    "    return max_length\n",
    "\n",
    "# Example usage:\n",
    "s = \"abcabcbb\"\n",
    "length = lengthOfLongestSubstring(s)\n",
    "print(length)  # Output: 3\n"
   ]
  },
  {
   "cell_type": "raw",
   "id": "d69e9df1",
   "metadata": {},
   "source": [
    "<aside>\n",
    "💡 3. **Majority Element**\n",
    "\n",
    "Given an array `nums` of size `n`, return *the majority element*.\n",
    "\n",
    "The majority element is the element that appears more than `⌊n / 2⌋` times. You may assume that the majority element always exists in the array.\n",
    "\n",
    "</aside>"
   ]
  },
  {
   "cell_type": "code",
   "execution_count": 3,
   "id": "56eadf5c",
   "metadata": {},
   "outputs": [
    {
     "name": "stdout",
     "output_type": "stream",
     "text": [
      "3\n"
     ]
    }
   ],
   "source": [
    "def majorityElement(nums):\n",
    "    candidate = None\n",
    "    count = 0\n",
    "\n",
    "    for num in nums:\n",
    "        if count == 0:\n",
    "            candidate = num\n",
    "            count = 1\n",
    "        elif num == candidate:\n",
    "            count += 1\n",
    "        else:\n",
    "            count -= 1\n",
    "\n",
    "    count = 0\n",
    "    for num in nums:\n",
    "        if num == candidate:\n",
    "            count += 1\n",
    "\n",
    "    if count > len(nums) // 2:\n",
    "        return candidate\n",
    "    else:\n",
    "        return None\n",
    "\n",
    "# Example usage:\n",
    "nums = [3, 2, 3]\n",
    "majority = majorityElement(nums)\n",
    "print(majority)  # Output: 3\n"
   ]
  },
  {
   "cell_type": "raw",
   "id": "01e94c5c",
   "metadata": {},
   "source": [
    "<aside>\n",
    "💡 **Group Anagram**\n",
    "\n",
    "Given an array of strings `strs`, group **the anagrams** together. You can return the answer in **any order**.\n",
    "\n",
    "An **Anagram** is a word or phrase formed by rearranging the letters of a different word or phrase, typically using all the original letters exactly once.\n",
    "\n",
    "</aside>"
   ]
  },
  {
   "cell_type": "code",
   "execution_count": 4,
   "id": "ff1edc50",
   "metadata": {},
   "outputs": [
    {
     "name": "stdout",
     "output_type": "stream",
     "text": [
      "[['eat', 'tea', 'ate'], ['tan', 'nat'], ['bat']]\n"
     ]
    }
   ],
   "source": [
    "from collections import defaultdict\n",
    "\n",
    "def groupAnagrams(strs):\n",
    "    anagram_groups = defaultdict(list)\n",
    "\n",
    "    for string in strs:\n",
    "        sorted_string = ''.join(sorted(string))\n",
    "        anagram_groups[sorted_string].append(string)\n",
    "\n",
    "    return list(anagram_groups.values())\n",
    "\n",
    "# Example usage:\n",
    "strs = [\"eat\", \"tea\", \"tan\", \"ate\", \"nat\", \"bat\"]\n",
    "anagram_groups = groupAnagrams(strs)\n",
    "print(anagram_groups)\n",
    "# Output: [['eat', 'tea', 'ate'], ['tan', 'nat'], ['bat']]\n"
   ]
  },
  {
   "cell_type": "raw",
   "id": "9e16a20f",
   "metadata": {},
   "source": [
    "<aside>\n",
    "💡 5. **Ugly Numbers**\n",
    "\n",
    "An **ugly number** is a positive integer whose prime factors are limited to `2`, `3`, and `5`.\n",
    "\n",
    "Given an integer `n`, return *the* `nth` ***ugly number***.\n",
    "\n",
    "</aside>"
   ]
  },
  {
   "cell_type": "code",
   "execution_count": 5,
   "id": "d6e5d312",
   "metadata": {},
   "outputs": [
    {
     "name": "stdout",
     "output_type": "stream",
     "text": [
      "12\n"
     ]
    }
   ],
   "source": [
    "def nthUglyNumber(n):\n",
    "    ugly = [0] * n\n",
    "    ugly[0] = 1\n",
    "    p2 = p3 = p5 = 0\n",
    "\n",
    "    for i in range(1, n):\n",
    "        ugly[i] = min(ugly[p2] * 2, ugly[p3] * 3, ugly[p5] * 5)\n",
    "\n",
    "        if ugly[i] == ugly[p2] * 2:\n",
    "            p2 += 1\n",
    "        if ugly[i] == ugly[p3] * 3:\n",
    "            p3 += 1\n",
    "        if ugly[i] == ugly[p5] * 5:\n",
    "            p5 += 1\n",
    "\n",
    "    return ugly[-1]\n",
    "\n",
    "# Example usage:\n",
    "n = 10\n",
    "ugly_number = nthUglyNumber(n)\n",
    "print(ugly_number)  # Output: 12\n"
   ]
  },
  {
   "cell_type": "raw",
   "id": "70455483",
   "metadata": {},
   "source": [
    "<aside>\n",
    "💡 **Top K Frequent Words**\n",
    "\n",
    "Given an array of strings `words` and an integer `k`, return *the* `k` *most frequent strings*.\n",
    "\n",
    "Return the answer **sorted** by **the frequency** from highest to lowest. Sort the words with the same frequency by their **lexicographical order**.\n",
    "\n",
    "</aside>"
   ]
  },
  {
   "cell_type": "code",
   "execution_count": 6,
   "id": "ae7670eb",
   "metadata": {},
   "outputs": [
    {
     "name": "stdout",
     "output_type": "stream",
     "text": [
      "['leetcode', 'coding']\n"
     ]
    }
   ],
   "source": [
    "import heapq\n",
    "from collections import Counter\n",
    "\n",
    "def topKFrequent(words, k):\n",
    "    word_count = Counter(words)\n",
    "    min_heap = []\n",
    "    \n",
    "    for word, count in word_count.items():\n",
    "        heapq.heappush(min_heap, (-count, word))\n",
    "\n",
    "        if len(min_heap) > k:\n",
    "            heapq.heappop(min_heap)\n",
    "\n",
    "    result = []\n",
    "    while min_heap:\n",
    "        result.append(heapq.heappop(min_heap)[1])\n",
    "\n",
    "    return result[::-1]\n",
    "\n",
    "# Example usage:\n",
    "words = [\"i\", \"love\", \"leetcode\", \"i\", \"love\", \"coding\"]\n",
    "k = 2\n",
    "top_k_frequent = topKFrequent(words, k)\n",
    "print(top_k_frequent)  # Output: ['i', 'love']\n"
   ]
  },
  {
   "cell_type": "raw",
   "id": "99f1f974",
   "metadata": {},
   "source": [
    "<aside>\n",
    "💡 7. **Sliding Window Maximum**\n",
    "\n",
    "You are given an array of integers `nums`, there is a sliding window of size `k` which is moving from the very left of the array to the very right. You can only see the `k` numbers in the window. Each time the sliding window moves right by one position.\n",
    "\n",
    "Return *the max sliding window*.\n",
    "\n",
    "</aside>"
   ]
  },
  {
   "cell_type": "code",
   "execution_count": 8,
   "id": "2ad85020",
   "metadata": {},
   "outputs": [
    {
     "name": "stdout",
     "output_type": "stream",
     "text": [
      "[3, 3, 5, 5, 6, 7]\n"
     ]
    }
   ],
   "source": [
    "from collections import deque\n",
    "\n",
    "def maxSlidingWindow(nums, k):\n",
    "    window = deque()\n",
    "    result = []\n",
    "\n",
    "    for i in range(len(nums)):\n",
    "        while window and nums[i] >= nums[window[-1]]:\n",
    "            window.pop()\n",
    "\n",
    "        window.append(i)\n",
    "\n",
    "        if i - k >= window[0]:\n",
    "            window.popleft()\n",
    "\n",
    "        if i >= k - 1:\n",
    "            result.append(nums[window[0]])\n",
    "\n",
    "    return result\n",
    "\n",
    "# Example usage:\n",
    "nums = [1, 3, -1, -3, 5, 3, 6, 7]\n",
    "k = 3\n",
    "max_window = maxSlidingWindow(nums, k)\n",
    "print(max_window)  # Output: [3, 3, 5, 5, 6, 7]\n"
   ]
  },
  {
   "cell_type": "raw",
   "id": "0ce03812",
   "metadata": {},
   "source": [
    "<aside>\n",
    "💡 **Find K Closest Elements**\n",
    "\n",
    "Given a **sorted** integer array `arr`, two integers `k` and `x`, return the `k` closest integers to `x` in the array. The result should also be sorted in ascending order.\n",
    "\n",
    "An integer `a` is closer to `x` than an integer `b` if:\n",
    "\n",
    "- `|a - x| < |b - x|`, or\n",
    "- `|a - x| == |b - x|` and `a < b`\n",
    "</aside>"
   ]
  },
  {
   "cell_type": "code",
   "execution_count": 9,
   "id": "01daa44f",
   "metadata": {},
   "outputs": [
    {
     "name": "stdout",
     "output_type": "stream",
     "text": [
      "[1, 2, 3, 4]\n"
     ]
    }
   ],
   "source": [
    "def findClosestElements(arr, k, x):\n",
    "    left = 0\n",
    "    right = len(arr) - 1\n",
    "\n",
    "    while right - left + 1 > k:\n",
    "        if abs(arr[left] - x) > abs(arr[right] - x):\n",
    "            left += 1\n",
    "        else:\n",
    "            right -= 1\n",
    "\n",
    "    return arr[left:right+1]\n",
    "\n",
    "# Example usage:\n",
    "arr = [1, 2, 3, 4, 5]\n",
    "k = 4\n",
    "x = 3\n",
    "closest_elements = findClosestElements(arr, k, x)\n",
    "print(closest_elements)  # Output: [1, 2, 3, 4]\n"
   ]
  },
  {
   "cell_type": "code",
   "execution_count": null,
   "id": "5d0c66aa",
   "metadata": {},
   "outputs": [],
   "source": []
  }
 ],
 "metadata": {
  "kernelspec": {
   "display_name": "Python 3 (ipykernel)",
   "language": "python",
   "name": "python3"
  },
  "language_info": {
   "codemirror_mode": {
    "name": "ipython",
    "version": 3
   },
   "file_extension": ".py",
   "mimetype": "text/x-python",
   "name": "python",
   "nbconvert_exporter": "python",
   "pygments_lexer": "ipython3",
   "version": "3.9.12"
  }
 },
 "nbformat": 4,
 "nbformat_minor": 5
}
