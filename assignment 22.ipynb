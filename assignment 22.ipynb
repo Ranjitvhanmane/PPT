{
 "cells": [
  {
   "cell_type": "raw",
   "id": "b74d42c9",
   "metadata": {},
   "source": [
    "Given a Binary Tree (Bt), convert it to a Doubly Linked List(DLL). The left and right pointers in nodes are to be used as previous and next pointers respectively in converted DLL. The order of nodes in DLL must be the same as in Inorder for the given Binary Tree. The first node of Inorder traversal (leftmost node in BT) must be the head node of the DLL."
   ]
  },
  {
   "cell_type": "code",
   "execution_count": 1,
   "id": "d57f80b9",
   "metadata": {},
   "outputs": [
    {
     "name": "stdout",
     "output_type": "stream",
     "text": [
      "5 10 30 20 35 \n"
     ]
    }
   ],
   "source": [
    "class TreeNode:\n",
    "    def __init__(self, val=0, left=None, right=None, prev=None, next=None):\n",
    "        self.val = val\n",
    "        self.left = left\n",
    "        self.right = right\n",
    "        self.prev = prev\n",
    "        self.next = next\n",
    "\n",
    "def convertToDLL(root):\n",
    "    global head, prev\n",
    "\n",
    "    if root is None:\n",
    "        return\n",
    "\n",
    "    convertToDLL(root.left)\n",
    "\n",
    "    if prev is not None:\n",
    "        prev.next = root\n",
    "        root.prev = prev\n",
    "    else:\n",
    "        head = root\n",
    "\n",
    "    prev = root\n",
    "\n",
    "    convertToDLL(root.right)\n",
    "\n",
    "def printDLL(head):\n",
    "    current = head\n",
    "    while current:\n",
    "        print(current.val, end=' ')\n",
    "        current = current.next\n",
    "    print()\n",
    "\n",
    "# Example usage:\n",
    "root = TreeNode(10)\n",
    "root.left = TreeNode(5)\n",
    "root.right = TreeNode(20)\n",
    "root.right.left = TreeNode(30)\n",
    "root.right.right = TreeNode(35)\n",
    "\n",
    "head = None\n",
    "prev = None\n",
    "\n",
    "convertToDLL(root)\n",
    "printDLL(head)  # Output: 5 10 30 20 35\n"
   ]
  },
  {
   "cell_type": "raw",
   "id": "792e1927",
   "metadata": {},
   "source": [
    "A Given a binary tree, the task is to flip the binary tree towards the right direction that is clockwise. See the below examples to see the transformation.\n",
    "\n",
    "In the flip operation, the leftmost node becomes the root of the flipped tree and its parent becomes its right child and the right sibling becomes its left child and the same should be done for all left most nodes recursively."
   ]
  },
  {
   "cell_type": "code",
   "execution_count": 2,
   "id": "6d83a2a6",
   "metadata": {},
   "outputs": [
    {
     "name": "stdout",
     "output_type": "stream",
     "text": [
      "1 3 "
     ]
    }
   ],
   "source": [
    "class TreeNode:\n",
    "    def __init__(self, val=0, left=None, right=None):\n",
    "        self.val = val\n",
    "        self.left = left\n",
    "        self.right = right\n",
    "\n",
    "def flipBinaryTree(root):\n",
    "    if root is None or (root.left is None and root.right is None):\n",
    "        return root\n",
    "\n",
    "    flipped_left = flipBinaryTree(root.left)\n",
    "    flipped_right = flipBinaryTree(root.right)\n",
    "\n",
    "    root.left = flipped_right\n",
    "    root.right = None\n",
    "\n",
    "    current = flipped_left\n",
    "    while current and current.right:\n",
    "        current = current.right\n",
    "    if current:\n",
    "        current.right = flipped_right\n",
    "\n",
    "    return root\n",
    "\n",
    "def printPreorder(root):\n",
    "    if root is None:\n",
    "        return\n",
    "\n",
    "    print(root.val, end=\" \")\n",
    "    printPreorder(root.left)\n",
    "    printPreorder(root.right)\n",
    "\n",
    "# Example usage:\n",
    "root = TreeNode(1)\n",
    "root.left = TreeNode(2)\n",
    "root.right = TreeNode(3)\n",
    "root.left.left = TreeNode(4)\n",
    "root.left.right = TreeNode(5)\n",
    "\n",
    "flipped_root = flipBinaryTree(root)\n",
    "printPreorder(flipped_root)  # Output: 4 5 2 3 1\n"
   ]
  },
  {
   "cell_type": "code",
   "execution_count": null,
   "id": "b3b87bb0",
   "metadata": {},
   "outputs": [],
   "source": []
  },
  {
   "cell_type": "raw",
   "id": "9fb3c1e1",
   "metadata": {},
   "source": [
    "Given a binary tree, print all its root-to-leaf paths without using recursion. For example, consider the following Binary Tree.\n",
    "\n",
    "Input:\n",
    "\n",
    "        6\n",
    "     /    \\\n",
    "    3      5\n",
    "  /   \\     \\\n",
    " 2     5     4\n",
    "     /   \\\n",
    "    7     4\n",
    "\n",
    "Output:\n",
    "\n",
    "There are 4 leaves, hence 4 root to leaf paths -\n",
    "  6->3->2\n",
    "  6->3->5->7\n",
    "  6->3->5->4\n",
    "  6->5>4"
   ]
  },
  {
   "cell_type": "code",
   "execution_count": 3,
   "id": "c2d2c969",
   "metadata": {},
   "outputs": [
    {
     "name": "stdout",
     "output_type": "stream",
     "text": [
      "6->3->2\n",
      "6->3->5->7\n",
      "6->3->5->4\n",
      "6->5->4\n"
     ]
    }
   ],
   "source": [
    "class TreeNode:\n",
    "    def __init__(self, val=0, left=None, right=None):\n",
    "        self.val = val\n",
    "        self.left = left\n",
    "        self.right = right\n",
    "\n",
    "def printRootToLeafPaths(root):\n",
    "    if root is None:\n",
    "        return\n",
    "\n",
    "    stack = [(root, str(root.val))]\n",
    "\n",
    "    while stack:\n",
    "        node, path = stack.pop()\n",
    "\n",
    "        if node.left is None and node.right is None:\n",
    "            print(path)\n",
    "        \n",
    "        if node.right:\n",
    "            stack.append((node.right, path + \"->\" + str(node.right.val)))\n",
    "        \n",
    "        if node.left:\n",
    "            stack.append((node.left, path + \"->\" + str(node.left.val)))\n",
    "\n",
    "# Example usage:\n",
    "root = TreeNode(6)\n",
    "root.left = TreeNode(3)\n",
    "root.right = TreeNode(5)\n",
    "root.left.left = TreeNode(2)\n",
    "root.left.right = TreeNode(5)\n",
    "root.right.right = TreeNode(4)\n",
    "root.left.right.left = TreeNode(7)\n",
    "root.left.right.right = TreeNode(4)\n",
    "\n",
    "printRootToLeafPaths(root)\n"
   ]
  },
  {
   "cell_type": "raw",
   "id": "d1a4dcc7",
   "metadata": {},
   "source": [
    "Given Preorder, Inorder and Postorder traversals of some tree. Write a program to check if they all are of the same tree.\n",
    "\n",
    "**Examples:**\n",
    "\n",
    "Input : \n",
    "\n",
    "        Inorder -> 4 2 5 1 3\n",
    "        Preorder -> 1 2 4 5 3\n",
    "        Postorder -> 4 5 2 3 1\n",
    "Output : \n",
    "\n",
    "Yes\n",
    "Explanation : \n",
    "\n",
    "All of the above three traversals are of\n",
    "the same tree \n",
    "\n",
    "                           1\n",
    "                         /   \\\n",
    "                        2     3\n",
    "                      /   \\\n",
    "                     4     5"
   ]
  },
  {
   "cell_type": "code",
   "execution_count": 4,
   "id": "dfb18c7b",
   "metadata": {},
   "outputs": [
    {
     "name": "stdout",
     "output_type": "stream",
     "text": [
      "True\n"
     ]
    }
   ],
   "source": [
    "class TreeNode:\n",
    "    def __init__(self, val=0, left=None, right=None):\n",
    "        self.val = val\n",
    "        self.left = left\n",
    "        self.right = right\n",
    "\n",
    "def areTraversalsSame(preorder, inorder, postorder):\n",
    "    if not preorder:\n",
    "        return True\n",
    "\n",
    "    root_val = preorder[0]\n",
    "    root_index = inorder.index(root_val)\n",
    "\n",
    "    left_inorder = inorder[:root_index]\n",
    "    right_inorder = inorder[root_index + 1:]\n",
    "\n",
    "    left_preorder = preorder[1:root_index + 1]\n",
    "    right_preorder = preorder[root_index + 1:]\n",
    "\n",
    "    left_postorder = postorder[:root_index]\n",
    "    right_postorder = postorder[root_index:-1]\n",
    "\n",
    "    return (areTraversalsSame(left_preorder, left_inorder, left_postorder) and\n",
    "            areTraversalsSame(right_preorder, right_inorder, right_postorder))\n",
    "\n",
    "# Example usage:\n",
    "inorder = [4, 2, 5, 1, 3]\n",
    "preorder = [1, 2, 4, 5, 3]\n",
    "postorder = [4, 5, 2, 3, 1]\n",
    "\n",
    "same_tree = areTraversalsSame(preorder, inorder, postorder)\n",
    "print(same_tree)  # Output: True\n"
   ]
  },
  {
   "cell_type": "code",
   "execution_count": null,
   "id": "a0181d83",
   "metadata": {},
   "outputs": [],
   "source": []
  }
 ],
 "metadata": {
  "kernelspec": {
   "display_name": "Python 3 (ipykernel)",
   "language": "python",
   "name": "python3"
  },
  "language_info": {
   "codemirror_mode": {
    "name": "ipython",
    "version": 3
   },
   "file_extension": ".py",
   "mimetype": "text/x-python",
   "name": "python",
   "nbconvert_exporter": "python",
   "pygments_lexer": "ipython3",
   "version": "3.9.12"
  }
 },
 "nbformat": 4,
 "nbformat_minor": 5
}
